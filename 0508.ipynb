{
  "nbformat": 4,
  "nbformat_minor": 0,
  "metadata": {
    "colab": {
      "provenance": [],
      "authorship_tag": "ABX9TyM6sS8PeYOBNGUVqIeDNdlS",
      "include_colab_link": true
    },
    "kernelspec": {
      "name": "python3",
      "display_name": "Python 3"
    },
    "language_info": {
      "name": "python"
    }
  },
  "cells": [
    {
      "cell_type": "markdown",
      "metadata": {
        "id": "view-in-github",
        "colab_type": "text"
      },
      "source": [
        "<a href=\"https://colab.research.google.com/github/Kunrulee/TKU-AI-411631475/blob/main/0508.ipynb\" target=\"_parent\"><img src=\"https://colab.research.google.com/assets/colab-badge.svg\" alt=\"Open In Colab\"/></a>"
      ]
    },
    {
      "cell_type": "code",
      "execution_count": 1,
      "metadata": {
        "colab": {
          "base_uri": "https://localhost:8080/"
        },
        "id": "NV0SVvaG_Oge",
        "outputId": "ca6e507c-6d66-4d9f-957f-878772531366"
      },
      "outputs": [
        {
          "output_type": "stream",
          "name": "stdout",
          "text": [
            "請輸入您的體溫：37\n",
            "體溫略高!\n"
          ]
        }
      ],
      "source": [
        "temperature = float(input(\"請輸入您的體溫：\"))\n",
        "\n",
        "if temperature >= 37.5:\n",
        "    print(\"體溫過高!\")\n",
        "elif 37 <= temperature <= 37.4:\n",
        "    print(\"體溫略高!\")\n",
        "elif 34 <= temperature <= 36.9:\n",
        "    print(\"體溫正常!\")\n",
        "else:\n",
        "    print(\"體溫異常，請重新量測!\")"
      ]
    },
    {
      "cell_type": "code",
      "source": [
        "score = float(input(\"請輸入您的成績：\"))\n",
        "\n",
        "if score >= 90:\n",
        "    print(\"成績：A\")\n",
        "elif 80 <= score <= 89:\n",
        "    print(\"成績：B\")\n",
        "elif 70 <= score <= 79:\n",
        "    print(\"成績：C\")\n",
        "elif 60 <= score <= 69:\n",
        "    print(\"成績：D\")\n",
        "else:\n",
        "    print(\"成績：E\")"
      ],
      "metadata": {
        "colab": {
          "base_uri": "https://localhost:8080/"
        },
        "id": "7ErnPupbDLdW",
        "outputId": "c1c7236f-eb17-4240-892b-7a36721d727e"
      },
      "execution_count": 2,
      "outputs": [
        {
          "output_type": "stream",
          "name": "stdout",
          "text": [
            "請輸入您的成績：90\n",
            "成績：A\n"
          ]
        }
      ]
    },
    {
      "cell_type": "code",
      "source": [
        "month = int(input(\"請輸入月份：\"))\n",
        "\n",
        "if month in [3, 4, 5]:\n",
        "    print(f\"{month}月是春天!\")\n",
        "elif month in [6, 7, 8]:\n",
        "    print(f\"{month}月是夏天!\")\n",
        "elif month in [9, 10, 11]:\n",
        "    print(f\"{month}月是秋天!\")\n",
        "elif month in [12, 1, 2]:\n",
        "    print(f\"{month}月是冬天!\")\n",
        "else:\n",
        "    print(\"月份不在範圍內\")"
      ],
      "metadata": {
        "colab": {
          "base_uri": "https://localhost:8080/"
        },
        "id": "VqD3e62YEilX",
        "outputId": "526280f9-06bd-4778-be63-1e8fdf443c98"
      },
      "execution_count": 3,
      "outputs": [
        {
          "output_type": "stream",
          "name": "stdout",
          "text": [
            "請輸入月份：3\n",
            "3月是春天!\n"
          ]
        }
      ]
    },
    {
      "cell_type": "code",
      "source": [],
      "metadata": {
        "id": "Ki_PeT3GF779"
      },
      "execution_count": null,
      "outputs": []
    }
  ]
}