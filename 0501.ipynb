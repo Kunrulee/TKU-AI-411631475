{
  "nbformat": 4,
  "nbformat_minor": 0,
  "metadata": {
    "colab": {
      "provenance": [],
      "authorship_tag": "ABX9TyM2Xu65tFYKWnAZEHB5wP9l",
      "include_colab_link": true
    },
    "kernelspec": {
      "name": "python3",
      "display_name": "Python 3"
    },
    "language_info": {
      "name": "python"
    }
  },
  "cells": [
    {
      "cell_type": "markdown",
      "metadata": {
        "id": "view-in-github",
        "colab_type": "text"
      },
      "source": [
        "<a href=\"https://colab.research.google.com/github/Kunrulee/TKU-AI-411631475/blob/main/0501.ipynb\" target=\"_parent\"><img src=\"https://colab.research.google.com/assets/colab-badge.svg\" alt=\"Open In Colab\"/></a>"
      ]
    },
    {
      "cell_type": "code",
      "execution_count": null,
      "metadata": {
        "colab": {
          "base_uri": "https://localhost:8080/"
        },
        "id": "X2kgqV5YheyQ",
        "outputId": "148025b4-ab03-4ab0-fd3d-fbfefddeb086"
      },
      "outputs": [
        {
          "output_type": "stream",
          "name": "stdout",
          "text": [
            "0501\n"
          ]
        }
      ],
      "source": [
        "print(\"0501\")"
      ]
    },
    {
      "cell_type": "code",
      "source": [
        "score = int(input(\"請輸入分數\"))\n",
        "if (score >= 60):\n",
        "    print(\"及格\")"
      ],
      "metadata": {
        "colab": {
          "base_uri": "https://localhost:8080/"
        },
        "id": "JpjxKDgwiLPJ",
        "outputId": "ed3e1f1b-3cee-4db9-e711-a3136b74b7e4"
      },
      "execution_count": null,
      "outputs": [
        {
          "output_type": "stream",
          "name": "stdout",
          "text": [
            "請輸入分數70\n",
            "及格\n"
          ]
        }
      ]
    },
    {
      "cell_type": "code",
      "source": [
        "數學 = 60\n",
        "英文 = 70\n",
        "if 數學 > 英文:\n",
        "    print(\"數學比較高\")\n",
        "else:\n",
        "    print(\"英文比較高\")\n"
      ],
      "metadata": {
        "colab": {
          "base_uri": "https://localhost:8080/"
        },
        "id": "hXwN5IpPinU7",
        "outputId": "8812abc3-2c47-4677-e53c-f43c2d2de40a"
      },
      "execution_count": null,
      "outputs": [
        {
          "output_type": "stream",
          "name": "stdout",
          "text": [
            "英文比較高\n"
          ]
        }
      ]
    },
    {
      "cell_type": "code",
      "source": [
        " correct_password = \"open sesame\"\n",
        "\n",
        "# 輸入密碼\n",
        "password = input(\"請輸入密碼：\")\n",
        "\n",
        "# 檢查密碼是否正確\n",
        "if password == correct_password:\n",
        "    print(\"歡迎光臨！\")\n",
        "else:\n",
        "    print(\"密碼錯誤。\")"
      ],
      "metadata": {
        "colab": {
          "base_uri": "https://localhost:8080/"
        },
        "id": "h4NX7xr1jKng",
        "outputId": "4c98a0bc-8b4d-4252-b126-a2fffd6a1450"
      },
      "execution_count": 11,
      "outputs": [
        {
          "output_type": "stream",
          "name": "stdout",
          "text": [
            "請輸入密碼：1234\n",
            "密碼錯誤。\n"
          ]
        }
      ]
    },
    {
      "cell_type": "code",
      "source": [
        "今天會下雨嗎?y\n",
        "出門記得帶傘!\n",
        "\n",
        "今天會下雨嗎?Y\n",
        "出門記得帶傘!\n",
        "\n",
        "if(rain==\"Y\" or rain==\"y\"):\n",
        "  print('不用帶傘')"
      ],
      "metadata": {
        "id": "Oc0K56wdlRWc",
        "colab": {
          "base_uri": "https://localhost:8080/",
          "height": 108
        },
        "outputId": "bbeefdee-bed0-4eb0-86da-0f1f40a5b139"
      },
      "execution_count": 15,
      "outputs": [
        {
          "output_type": "error",
          "ename": "SyntaxError",
          "evalue": "invalid syntax (<ipython-input-15-f0cd2ca676f6>, line 1)",
          "traceback": [
            "\u001b[0;36m  File \u001b[0;32m\"<ipython-input-15-f0cd2ca676f6>\"\u001b[0;36m, line \u001b[0;32m1\u001b[0m\n\u001b[0;31m    今天會下雨嗎?y\u001b[0m\n\u001b[0m          ^\u001b[0m\n\u001b[0;31mSyntaxError\u001b[0m\u001b[0;31m:\u001b[0m invalid syntax\n"
          ]
        }
      ]
    },
    {
      "cell_type": "code",
      "source": [
        "number = int(input(\"請輸入一個數字：\"))\n",
        "\n",
        "# 判斷奇偶性\n",
        "if number % 2 == 0:\n",
        "    print(number, \"是偶數 \")\n",
        "else:\n",
        "    print(number, \"是奇數 \")\n"
      ],
      "metadata": {
        "colab": {
          "base_uri": "https://localhost:8080/"
        },
        "id": "c504LThXq2Ha",
        "outputId": "6ce80431-e993-4a46-cb45-598654a18da0"
      },
      "execution_count": 16,
      "outputs": [
        {
          "output_type": "stream",
          "name": "stdout",
          "text": [
            "請輸入一個數字：52\n",
            "52 是偶數 \n"
          ]
        }
      ]
    },
    {
      "cell_type": "code",
      "source": [],
      "metadata": {
        "id": "0PEC5Nxushu9"
      },
      "execution_count": null,
      "outputs": []
    }
  ]
}